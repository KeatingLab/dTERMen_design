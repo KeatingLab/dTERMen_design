{
 "cells": [
  {
   "cell_type": "code",
   "execution_count": 1,
   "metadata": {
    "collapsed": true
   },
   "outputs": [],
   "source": [
    "import sys\n",
    "import pickle\n",
    "import pandas as pd\n",
    "import glob\n",
    "import re"
   ]
  },
  {
   "cell_type": "code",
   "execution_count": 2,
   "metadata": {
    "collapsed": true
   },
   "outputs": [],
   "source": [
    "myAmino = [\"R\",\"H\",\"K\",\"D\",\"E\",\"S\",\"T\",\"N\",\"Q\",\"C\",\"G\",\"P\",\"A\",\"V\",\"I\",\"L\",\"M\",\"F\",\"Y\",\"W\"]\n",
    "FullAmino = [\"ARG\",\"HIS\",\"LYS\",\"ASP\",\"GLU\",\"SER\",\"THR\",\"ASN\",\"GLN\",\"CYS\",\"GLY\",\"PRO\",\"ALA\",\"VAL\",\"ILE\",\"LEU\",\"MET\",\"PHE\",\"TYR\",\"TRP\"]"
   ]
  },
  {
   "cell_type": "code",
   "execution_count": 3,
   "metadata": {
    "collapsed": true
   },
   "outputs": [],
   "source": [
    "#Benchmark dataset from SORTCERY\n",
    "AllName = [\"x1\",\"m1\",\"f100\"]\n",
    "#New name\n",
    "NameTest = [\"B2CL1_SORTCERY\",\"MCL1_SORTCERY\",\"B2LA1_SORTCERY\"]\n",
    "\n",
    "ApoDTerm = False"
   ]
  },
  {
   "cell_type": "code",
   "execution_count": 5,
   "metadata": {},
   "outputs": [
    {
     "name": "stdout",
     "output_type": "stream",
     "text": [
      "('x1', 'B2CL1_SORTCERY', 4386, 4386)\n",
      "('m1', 'MCL1_SORTCERY', 4491, 4491)\n",
      "('f100', 'B2LA1_SORTCERY', 3805, 3805)\n",
      "('x1', 'binary_B2CL1_SORTCERY', 1882, 1872)\n",
      "('m1', 'binary_MCL1_SORTCERY', 1940, 1855)\n",
      "('f100', 'binary_B2LA1_SORTCERY', 1686, 1686)\n"
     ]
    }
   ],
   "source": [
    "#Dictionnary of energy (exp or predicted)\n",
    "PepBindEner = dict()\n",
    "\n",
    "#Get Energy from sortery\n",
    "for (t,name) in zip(AllName,NameTest):\n",
    "    subdf = pd.read_csv(\"../SORTCERY_data/\"+t+\"_merged.csv\")\n",
    "    \n",
    "    if name not in PepBindEner:\n",
    "        PepBindEner[name] = dict()\n",
    "    for (seq,val) in zip(subdf[\"protein\"],subdf[t+\"_mean_ener\"]):\n",
    "        if seq in PepBindEner[name]:\n",
    "            print(name,seq,val,PepBindEner[name][seq])\n",
    "        PepBindEner[name][seq] = float(val)\n",
    "    print(t,name,len(subdf),len(PepBindEner[name]))\n",
    "    \n",
    "    \n",
    "#Load Binary\n",
    "for (t,n) in zip(AllName,NameTest):\n",
    "    subdf = pd.read_csv(\"../SORTCERY_data/\"+t+\"_binary_merged.csv\")\n",
    "    name = \"binary_\"+n\n",
    "    if name not in PepBindEner:\n",
    "        PepBindEner[name] = dict()\n",
    "    for (seq,val) in zip(subdf[\"protein\"],subdf[\"binder\"]):\n",
    "        if seq in PepBindEner[name]:\n",
    "            continue\n",
    "            print(name,seq,val,PepBindEner[name][seq])\n",
    "        PepBindEner[name][seq] = float(val)\n",
    "    print(t,name,len(subdf),len(PepBindEner[name]))\n",
    "    #100-80*subdf[\"binder\"]"
   ]
  },
  {
   "cell_type": "code",
   "execution_count": 6,
   "metadata": {},
   "outputs": [
    {
     "name": "stdout",
     "output_type": "stream",
     "text": [
      "('B2CL1', 'Bcl-xL')\n",
      "('MCL1', 'Mcl-1')\n",
      "('B2LA1', 'Bfl-1')\n"
     ]
    }
   ],
   "source": [
    "#Load Bcl-2 Protoeme screen\n",
    "Bcl2Prot = pd.read_table(\"../SORTCERY_data/bcl2_proteome_screen.dat\")\n",
    "for (uni,sname) in zip([\"B2CL1\",\"MCL1\",\"B2LA1\"],[\"Bcl-xL\",\"Mcl-1\",\"Bfl-1\"]):\n",
    "    print(uni,sname)\n",
    "    name = \"binary_\"+uni+\"_Proteome\"\n",
    "    if name not in PepBindEner:\n",
    "        PepBindEner[name] = dict()\n",
    "    subdf = Bcl2Prot.dropna(subset=[sname])\n",
    "    for (seq,val) in zip(subdf[\"Peptide\"],subdf[sname]):\n",
    "        nseq = \"AA\"+seq\n",
    "        PepBindEner[name][nseq] = float(val==\"binder\")"
   ]
  },
  {
   "cell_type": "code",
   "execution_count": null,
   "metadata": {
    "collapsed": true
   },
   "outputs": [],
   "source": []
  },
  {
   "cell_type": "code",
   "execution_count": 7,
   "metadata": {
    "collapsed": true
   },
   "outputs": [],
   "source": [
    "#Get Score from FoldX and Rosetta\n",
    "AllEnergyRos = pickle.load( open( \"../computed_data/RosFoldEner.pickle\", \"rb\" ))"
   ]
  },
  {
   "cell_type": "code",
   "execution_count": 8,
   "metadata": {
    "collapsed": true
   },
   "outputs": [],
   "source": [
    "for mod in AllEnergyRos.keys():\n",
    "    if re.search(\"_Rosetta$\",mod):\n",
    "        continue\n",
    "    #Make new model name so last term is the model name\n",
    "    RegMatch = re.search(\"^(\\S+_holo_)(\\S+)$\",mod)\n",
    "    nmod = RegMatch.group(1)+\"\".join(RegMatch.group(2).split(\"_\"))\n",
    "    \n",
    "    #Init dict\n",
    "    if mod not in PepBindEner:\n",
    "        PepBindEner[nmod] = dict()\n",
    "    \n",
    "    for seq in AllEnergyRos[mod]:\n",
    "        if None == AllEnergyRos[mod][seq]:\n",
    "            print(seq,mod)\n",
    "            continue\n",
    "        if not re.search(\"\\d+\",str(AllEnergyRos[mod][seq])):\n",
    "            print(seq,mod,AllEnergyRos[mod][seq])\n",
    "            continue\n",
    "        PepBindEner[nmod][seq] = float(AllEnergyRos[mod][seq])"
   ]
  },
  {
   "cell_type": "code",
   "execution_count": 9,
   "metadata": {
    "collapsed": true
   },
   "outputs": [],
   "source": [
    "#Score sequence with dTERMen"
   ]
  },
  {
   "cell_type": "code",
   "execution_count": 10,
   "metadata": {
    "collapsed": true
   },
   "outputs": [],
   "source": [
    "def load_dTERMen_sc(etab):\n",
    "    #Initialise and read energy table        \n",
    "    allpos = []\n",
    "    lines = [line.rstrip('\\n') for line in open(etab)]\n",
    "    holo = dict()\n",
    "    AllSelf = []\n",
    "    for l in lines:\n",
    "        #print(l)\n",
    "        sp = re.split(\"\\s+\",l)\n",
    "        allpos.append(int(sp[0]))\n",
    "        if len(sp) == 3:\n",
    "            AllSelf.append(float(sp[2]))\n",
    "            k1 = sp[0]+myAmino[FullAmino.index(sp[1])]\n",
    "            if k1 not in holo:\n",
    "                holo[k1] = dict()\n",
    "            holo[k1][k1] = float(sp[2])\n",
    "            continue\n",
    "        if len(sp) == 5:\n",
    "            k1 = sp[0]+myAmino[FullAmino.index(sp[2])]\n",
    "            k2 = sp[1]+myAmino[FullAmino.index(sp[3])]\n",
    "            holo[k1][k2] = float(sp[4])\n",
    "            AllSelf.append(float(sp[4]))\n",
    "            continue\n",
    "        print(l)\n",
    "        break\n",
    "        \n",
    "    #Keep only unique position\n",
    "    allpos = sorted(list(set(allpos)))\n",
    "    return(holo,allpos)\n",
    "\n",
    "#Score seq using energy function\n",
    "def score_sec(seq,mat,ref):\n",
    "    sc = 0.0\n",
    "    for i in  range(0,len(seq)):\n",
    "        k1 = str(ref[i])+seq[i]\n",
    "        for j in range(i,len(seq)):\n",
    "            k2 = str(ref[j])+seq[j]\n",
    "            if k2 not in mat[k1]:\n",
    "                continue\n",
    "            sc += mat[k1][k2]\n",
    "    return(sc)"
   ]
  },
  {
   "cell_type": "code",
   "execution_count": 11,
   "metadata": {},
   "outputs": [
    {
     "name": "stdout",
     "output_type": "stream",
     "text": [
      "('B2CL1_HUMAN_1BXL_A_holo_34', 16)\n",
      "('B2CL1_HUMAN_1BXL_A_holo_35', 16)\n",
      "('B2CL1_HUMAN_2YQ7_A_holo_34', 17)\n",
      "('B2CL1_HUMAN_2YQ7_A_holo_35', 17)\n",
      "('B2CL1_HUMAN_3IO8_C_holo_34', 18)\n",
      "('B2CL1_HUMAN_3IO8_C_holo_35', 18)\n",
      "('B2CL1_HUMAN_3R85_A_holo_34', 19)\n",
      "('B2CL1_HUMAN_3R85_A_holo_35', 19)\n",
      "('B2CL1_HUMAN_3R85_B_holo_35', 17)\n",
      "('B2CL1_HUMAN_3R85_C_holo_34', 18)\n",
      "('B2CL1_HUMAN_3R85_C_holo_35', 18)\n",
      "('B2CL1_HUMAN_3R85_D_holo_34', 17)\n",
      "('B2CL1_HUMAN_3R85_D_holo_35', 17)\n",
      "('B2CL1_HUMAN_4CIN_B_holo_34', 19)\n",
      "('B2CL1_HUMAN_4CIN_B_holo_35', 19)\n",
      "('B2CL1_HUMAN_5B1Z_A_holo_34', 16)\n",
      "('B2CL1_HUMAN_5B1Z_A_holo_35', 16)\n",
      "('B2CL1_HUMAN_5B1Z_B_holo_34', 17)\n",
      "('B2CL1_HUMAN_5B1Z_B_holo_35', 17)\n",
      "('B2CL1_HUMAN_5FMJ_A_holo_34', 19)\n",
      "('B2CL1_HUMAN_5FMJ_A_holo_35', 19)\n",
      "('B2LA1_HUMAN_3I1H_A_holo_34', 16)\n",
      "('B2LA1_HUMAN_3I1H_A_holo_35', 16)\n",
      "('B2CL1_HUMAN_3R85_B_holo_34', 17)\n",
      "('MCL1_HUMAN_1R19_A_holo_34', 18)\n",
      "('MCL1_HUMAN_4HW4_A_holo_35', 16)\n",
      "('MCL1_HUMAN_1R19_A_holo_35', 18)\n",
      "('MCL1_HUMAN_4HW4_A_holo_34', 16)\n",
      "('MCL1_HUMAN_4HW4_B_holo_34', 16)\n",
      "('MCL1_HUMAN_4HW4_B_holo_35', 16)\n"
     ]
    }
   ],
   "source": [
    "ApoDTerm = False\n",
    "alletab = glob.glob(\"../etab_bench/*.etab\")\n",
    "for etab in alletab:\n",
    "    #Get Model name\n",
    "    model = re.search(\"([A-Za-z0-9_]+)\\.etab\",etab).group(1)\n",
    "    if len(model.split(\"_\")) != 6:\n",
    "        continue\n",
    "    #Get receptor\n",
    "    rec = model.split(\"_\")[0]\n",
    "    \n",
    "    if \"BCL2\" in model:\n",
    "        continue\n",
    "        \n",
    "    #Only human\n",
    "    if \"HUMAN\" not in model:\n",
    "        continue\n",
    "    #Split Model\n",
    "    sp = model.split(\"_\")\n",
    "    if len(sp) != 6:\n",
    "        continue\n",
    "    \n",
    "    scoring = \"dTERMenC\"\n",
    "    if \"apo\" in model:\n",
    "        if ApoDTerm == False:continue\n",
    "        scoring = \"dTERMenA\"\n",
    "    sp[-1] = scoring+sp[-1]\n",
    "    #Get new name\n",
    "    nmodel = \"_\".join(sp)\n",
    "    \n",
    "    #Load scoring matrix\n",
    "    (holo,allpos) = load_dTERMen_sc(etab)\n",
    "    \n",
    "    if len(allpos) != 20:\n",
    "        print(model,len(allpos))\n",
    "        continue\n",
    "    if nmodel not in PepBindEner:\n",
    "        PepBindEner[nmodel] = dict()\n",
    "    for seq in PepBindEner[rec+\"_SORTCERY\"]:\n",
    "        #dTERMen pep are shorter, so need to adjust\n",
    "        SeqToScore = str(seq)[2:len(allpos)+2]\n",
    "        #Score Seq\n",
    "        ener = score_sec(SeqToScore,holo,allpos)\n",
    "        PepBindEner[nmodel][seq] = ener\n",
    "        \n",
    "    for seq in PepBindEner[\"binary_\"+rec+\"_SORTCERY\"]:\n",
    "        #dTERMen pep are shorter, so need to adjust\n",
    "        SeqToScore = str(seq)[2:len(allpos)+2]\n",
    "        #Score Seq\n",
    "        ener = score_sec(SeqToScore,holo,allpos)\n",
    "        PepBindEner[nmodel][seq] = ener\n",
    "    for seq in PepBindEner[\"binary_\"+rec+\"_Proteome\"]:\n",
    "        #dTERMen pep are shorter, so need to adjust\n",
    "        SeqToScore = str(seq)[2:len(allpos)+2]\n",
    "        #Score Seq\n",
    "        ener = score_sec(SeqToScore,holo,allpos)\n",
    "        PepBindEner[nmodel][seq] = ener\n",
    "        \n",
    "    \n",
    "    \n",
    "    \n",
    "    "
   ]
  },
  {
   "cell_type": "code",
   "execution_count": 12,
   "metadata": {},
   "outputs": [
    {
     "name": "stdout",
     "output_type": "stream",
     "text": [
      "('B2CL1_HUMAN_1BXL_A_holo_FoldX', 7, 9)\n",
      "('B2CL1_HUMAN_1BXL_A_holo_RosettaTalarisInterfacedGcross', 7, 9)\n",
      "('B2CL1_HUMAN_1BXL_A_holo_RosettaTalarisInterfacedGseparated', 7, 9)\n",
      "('B2CL1_HUMAN_1BXL_A_holo_RosettaTalarisPose', 7, 9)\n",
      "('B2CL1_HUMAN_1BXL_A_holo_RosettabetaInterfacedGcross', 7, 9)\n",
      "('B2CL1_HUMAN_1BXL_A_holo_RosettabetaInterfacedGseparated', 7, 9)\n",
      "('B2CL1_HUMAN_1BXL_A_holo_RosettabetaPose', 7, 9)\n",
      "('B2CL1_HUMAN_2YQ7_A_holo_FoldX', 7, 9)\n",
      "('B2CL1_HUMAN_2YQ7_A_holo_RosettaTalarisInterfacedGcross', 7, 9)\n",
      "('B2CL1_HUMAN_2YQ7_A_holo_RosettaTalarisInterfacedGseparated', 7, 9)\n",
      "('B2CL1_HUMAN_2YQ7_A_holo_RosettaTalarisPose', 7, 9)\n",
      "('B2CL1_HUMAN_2YQ7_A_holo_RosettabetaInterfacedGcross', 7, 9)\n",
      "('B2CL1_HUMAN_2YQ7_A_holo_RosettabetaInterfacedGseparated', 7, 9)\n",
      "('B2CL1_HUMAN_2YQ7_A_holo_RosettabetaPose', 7, 9)\n",
      "('B2CL1_HUMAN_3IO8_C_holo_FoldX', 7, 9)\n",
      "('B2CL1_HUMAN_3IO8_C_holo_RosettaTalarisInterfacedGcross', 7, 9)\n",
      "('B2CL1_HUMAN_3IO8_C_holo_RosettaTalarisInterfacedGseparated', 7, 9)\n",
      "('B2CL1_HUMAN_3IO8_C_holo_RosettaTalarisPose', 7, 9)\n",
      "('B2CL1_HUMAN_3IO8_C_holo_RosettabetaInterfacedGcross', 7, 9)\n",
      "('B2CL1_HUMAN_3IO8_C_holo_RosettabetaInterfacedGseparated', 7, 9)\n",
      "('B2CL1_HUMAN_3IO8_C_holo_RosettabetaPose', 7, 9)\n",
      "('B2CL1_HUMAN_3R85_A_holo_FoldX', 7, 9)\n",
      "('B2CL1_HUMAN_3R85_A_holo_RosettaTalarisInterfacedGcross', 7, 9)\n",
      "('B2CL1_HUMAN_3R85_A_holo_RosettaTalarisInterfacedGseparated', 7, 9)\n",
      "('B2CL1_HUMAN_3R85_A_holo_RosettaTalarisPose', 7, 9)\n",
      "('B2CL1_HUMAN_3R85_A_holo_RosettabetaInterfacedGcross', 7, 9)\n",
      "('B2CL1_HUMAN_3R85_A_holo_RosettabetaInterfacedGseparated', 7, 9)\n",
      "('B2CL1_HUMAN_3R85_A_holo_RosettabetaPose', 7, 9)\n",
      "('B2CL1_HUMAN_3R85_B_holo_FoldX', 7, 9)\n",
      "('B2CL1_HUMAN_3R85_B_holo_RosettaTalarisInterfacedGcross', 7, 9)\n",
      "('B2CL1_HUMAN_3R85_B_holo_RosettaTalarisInterfacedGseparated', 7, 9)\n",
      "('B2CL1_HUMAN_3R85_B_holo_RosettaTalarisPose', 7, 9)\n",
      "('B2CL1_HUMAN_3R85_B_holo_RosettabetaInterfacedGcross', 7, 9)\n",
      "('B2CL1_HUMAN_3R85_B_holo_RosettabetaInterfacedGseparated', 7, 9)\n",
      "('B2CL1_HUMAN_3R85_B_holo_RosettabetaPose', 7, 9)\n",
      "('B2CL1_HUMAN_3R85_C_holo_FoldX', 7, 9)\n",
      "('B2CL1_HUMAN_3R85_C_holo_RosettaTalarisInterfacedGcross', 7, 9)\n",
      "('B2CL1_HUMAN_3R85_C_holo_RosettaTalarisInterfacedGseparated', 7, 9)\n",
      "('B2CL1_HUMAN_3R85_C_holo_RosettaTalarisPose', 7, 9)\n",
      "('B2CL1_HUMAN_3R85_C_holo_RosettabetaInterfacedGcross', 7, 9)\n",
      "('B2CL1_HUMAN_3R85_C_holo_RosettabetaInterfacedGseparated', 7, 9)\n",
      "('B2CL1_HUMAN_3R85_C_holo_RosettabetaPose', 7, 9)\n",
      "('B2CL1_HUMAN_3R85_D_holo_FoldX', 7, 9)\n",
      "('B2CL1_HUMAN_3R85_D_holo_RosettaTalarisInterfacedGcross', 7, 9)\n",
      "('B2CL1_HUMAN_3R85_D_holo_RosettaTalarisInterfacedGseparated', 7, 9)\n",
      "('B2CL1_HUMAN_3R85_D_holo_RosettaTalarisPose', 7, 9)\n",
      "('B2CL1_HUMAN_3R85_D_holo_RosettabetaInterfacedGcross', 7, 9)\n",
      "('B2CL1_HUMAN_3R85_D_holo_RosettabetaInterfacedGseparated', 7, 9)\n",
      "('B2CL1_HUMAN_3R85_D_holo_RosettabetaPose', 7, 9)\n",
      "('B2CL1_HUMAN_4CIN_B_holo_FoldX', 7, 9)\n",
      "('B2CL1_HUMAN_4CIN_B_holo_RosettaTalarisInterfacedGcross', 7, 9)\n",
      "('B2CL1_HUMAN_4CIN_B_holo_RosettaTalarisInterfacedGseparated', 7, 9)\n",
      "('B2CL1_HUMAN_4CIN_B_holo_RosettaTalarisPose', 7, 9)\n",
      "('B2CL1_HUMAN_4CIN_B_holo_RosettabetaInterfacedGcross', 7, 9)\n",
      "('B2CL1_HUMAN_4CIN_B_holo_RosettabetaInterfacedGseparated', 7, 9)\n",
      "('B2CL1_HUMAN_4CIN_B_holo_RosettabetaPose', 7, 9)\n",
      "('B2CL1_HUMAN_5B1Z_A_holo_FoldX', 7, 9)\n",
      "('B2CL1_HUMAN_5B1Z_A_holo_RosettaTalarisInterfacedGcross', 7, 9)\n",
      "('B2CL1_HUMAN_5B1Z_A_holo_RosettaTalarisInterfacedGseparated', 7, 9)\n",
      "('B2CL1_HUMAN_5B1Z_A_holo_RosettaTalarisPose', 7, 9)\n",
      "('B2CL1_HUMAN_5B1Z_A_holo_RosettabetaInterfacedGcross', 7, 9)\n",
      "('B2CL1_HUMAN_5B1Z_A_holo_RosettabetaInterfacedGseparated', 7, 9)\n",
      "('B2CL1_HUMAN_5B1Z_A_holo_RosettabetaPose', 7, 9)\n",
      "('B2CL1_HUMAN_5B1Z_B_holo_FoldX', 7, 9)\n",
      "('B2CL1_HUMAN_5B1Z_B_holo_RosettaTalarisInterfacedGcross', 7, 9)\n",
      "('B2CL1_HUMAN_5B1Z_B_holo_RosettaTalarisInterfacedGseparated', 7, 9)\n",
      "('B2CL1_HUMAN_5B1Z_B_holo_RosettaTalarisPose', 7, 9)\n",
      "('B2CL1_HUMAN_5B1Z_B_holo_RosettabetaInterfacedGcross', 7, 9)\n",
      "('B2CL1_HUMAN_5B1Z_B_holo_RosettabetaInterfacedGseparated', 7, 9)\n",
      "('B2CL1_HUMAN_5B1Z_B_holo_RosettabetaPose', 7, 9)\n",
      "('B2CL1_HUMAN_5FMJ_A_holo_FoldX', 7, 9)\n",
      "('B2CL1_HUMAN_5FMJ_A_holo_RosettaTalarisInterfacedGcross', 7, 9)\n",
      "('B2CL1_HUMAN_5FMJ_A_holo_RosettaTalarisInterfacedGseparated', 7, 9)\n",
      "('B2CL1_HUMAN_5FMJ_A_holo_RosettaTalarisPose', 7, 9)\n",
      "('B2CL1_HUMAN_5FMJ_A_holo_RosettabetaInterfacedGcross', 7, 9)\n",
      "('B2CL1_HUMAN_5FMJ_A_holo_RosettabetaInterfacedGseparated', 7, 9)\n",
      "('B2CL1_HUMAN_5FMJ_A_holo_RosettabetaPose', 7, 9)\n",
      "('B2LA1_HUMAN_3I1H_A_holo_FoldX', 7, 9)\n",
      "('B2LA1_HUMAN_3I1H_A_holo_RosettaTalarisInterfacedGcross', 7, 9)\n",
      "('B2LA1_HUMAN_3I1H_A_holo_RosettaTalarisInterfacedGseparated', 7, 9)\n",
      "('B2LA1_HUMAN_3I1H_A_holo_RosettaTalarisPose', 7, 9)\n",
      "('B2LA1_HUMAN_3I1H_A_holo_RosettabetaInterfacedGcross', 7, 9)\n",
      "('B2LA1_HUMAN_3I1H_A_holo_RosettabetaInterfacedGseparated', 7, 9)\n",
      "('B2LA1_HUMAN_3I1H_A_holo_RosettabetaPose', 7, 9)\n",
      "('MCL1_HUMAN_3PK1_V_holo_dTERMenC34', 1, 9)\n",
      "('MCL1_HUMAN_4HW4_A_holo_FoldX', 7, 9)\n",
      "('MCL1_HUMAN_4HW4_A_holo_RosettaTalarisInterfacedGcross', 7, 9)\n",
      "('MCL1_HUMAN_4HW4_A_holo_RosettaTalarisInterfacedGseparated', 7, 9)\n",
      "('MCL1_HUMAN_4HW4_A_holo_RosettaTalarisPose', 7, 9)\n",
      "('MCL1_HUMAN_4HW4_A_holo_RosettabetaInterfacedGcross', 7, 9)\n",
      "('MCL1_HUMAN_4HW4_A_holo_RosettabetaInterfacedGseparated', 7, 9)\n",
      "('MCL1_HUMAN_4HW4_A_holo_RosettabetaPose', 7, 9)\n",
      "('MCL1_HUMAN_4HW4_B_holo_FoldX', 7, 9)\n",
      "('MCL1_HUMAN_4HW4_B_holo_RosettaTalarisInterfacedGcross', 7, 9)\n",
      "('MCL1_HUMAN_4HW4_B_holo_RosettaTalarisInterfacedGseparated', 7, 9)\n",
      "('MCL1_HUMAN_4HW4_B_holo_RosettaTalarisPose', 7, 9)\n",
      "('MCL1_HUMAN_4HW4_B_holo_RosettabetaInterfacedGcross', 7, 9)\n",
      "('MCL1_HUMAN_4HW4_B_holo_RosettabetaInterfacedGseparated', 7, 9)\n",
      "('MCL1_HUMAN_4HW4_B_holo_RosettabetaPose', 7, 9)\n",
      "('MCL1_HUMAN_5C3F_A_holo_dTERMenC34', 2, 9)\n",
      "('MCL1_HUMAN_5C3F_A_holo_dTERMenC35', 2, 9)\n",
      "('MCL1_HUMAN_5C6H_S_holo_FoldX', 7, 9)\n",
      "('MCL1_HUMAN_5C6H_S_holo_RosettaTalarisInterfacedGcross', 7, 9)\n",
      "('MCL1_HUMAN_5C6H_S_holo_RosettaTalarisInterfacedGseparated', 7, 9)\n",
      "('MCL1_HUMAN_5C6H_S_holo_RosettaTalarisPose', 7, 9)\n",
      "('MCL1_HUMAN_5C6H_S_holo_RosettabetaInterfacedGcross', 7, 9)\n",
      "('MCL1_HUMAN_5C6H_S_holo_RosettabetaInterfacedGseparated', 7, 9)\n",
      "('MCL1_HUMAN_5C6H_S_holo_RosettabetaPose', 7, 9)\n"
     ]
    }
   ],
   "source": [
    "#Find how often each pdb is there\n",
    "PDBCount = dict()\n",
    "MaxPDB = 0\n",
    "for k in sorted(PepBindEner.keys()):\n",
    "    if len(PepBindEner[k]) < 1500:\n",
    "        #print(k)\n",
    "        continue\n",
    "        die\n",
    "    sp = k.split(\"_\")\n",
    "    if len(sp) < 6:\n",
    "        continue\n",
    "    pdb = \"_\".join(sp[0:4])\n",
    "    if pdb not in PDBCount:\n",
    "        PDBCount[pdb] = 0\n",
    "    PDBCount[pdb] += 1\n",
    "    if PDBCount[pdb] > MaxPDB:\n",
    "        MaxPDB = PDBCount[pdb]\n",
    "    #print(pdb,k,len(PepBindEner[k]))\n",
    "\n",
    "#Remove incomplete template\n",
    "for k in sorted(PepBindEner.keys()):\n",
    "    if len(PepBindEner[k]) < 1500:\n",
    "        #print(k)\n",
    "        continue\n",
    "    sp = k.split(\"_\")\n",
    "    if len(sp) < 6:\n",
    "        continue\n",
    "    pdb = \"_\".join(sp[0:4])\n",
    "    if PDBCount[pdb] != MaxPDB:\n",
    "        if k in PepBindEner:\n",
    "            print(k,PDBCount[pdb],MaxPDB)\n",
    "            del PepBindEner[k]\n",
    "    "
   ]
  },
  {
   "cell_type": "code",
   "execution_count": null,
   "metadata": {
    "collapsed": true
   },
   "outputs": [],
   "source": []
  },
  {
   "cell_type": "code",
   "execution_count": 13,
   "metadata": {
    "collapsed": true
   },
   "outputs": [],
   "source": [
    "#Get Min\n",
    "#Find model\n",
    "\n",
    "MinPDBTemp = dict()\n",
    "\n",
    "for k in sorted(PepBindEner.keys()):\n",
    "    sp = k.split(\"_\")\n",
    "    if len(sp) != 6:\n",
    "        #print(k)\n",
    "        continue\n",
    "    \n",
    "    mod = \"_\".join(sp[:2]+[\"MIN\",sp[-1]])\n",
    "    pdb = \"_\".join(k.split(\"_\")[:4])\n",
    "    \n",
    "    if mod not in PepBindEner:\n",
    "        PepBindEner[mod] = dict()\n",
    "    #print(k,len(sp),mod)\n",
    "    for seq in PepBindEner[k]:\n",
    "        if seq not in PepBindEner[mod]:\n",
    "            PepBindEner[mod][seq] = PepBindEner[k][seq]\n",
    "        if mod not in MinPDBTemp:\n",
    "            MinPDBTemp[mod] = dict()\n",
    "        if PepBindEner[k][seq] <= PepBindEner[mod][seq]:\n",
    "            PepBindEner[mod][seq] = PepBindEner[k][seq]\n",
    "            \n",
    "            MinPDBTemp[mod][seq] = pdb\n",
    "#Get MinPDB count\n",
    "MinPDB = dict()\n",
    "for mod in MinPDBTemp.keys():\n",
    "    submod = mod.split(\"_\")[-1]\n",
    "    if submod not in MinPDB:\n",
    "        MinPDB[submod] = dict()\n",
    "    for seq in MinPDBTemp[mod]:\n",
    "        pdb = MinPDBTemp[mod][seq]\n",
    "        if pdb not in MinPDB[submod]:\n",
    "            MinPDB[submod][pdb] = 0\n",
    "        MinPDB[submod][pdb] += 1"
   ]
  },
  {
   "cell_type": "code",
   "execution_count": 14,
   "metadata": {
    "collapsed": true
   },
   "outputs": [],
   "source": [
    "#Generate bound vs unbound for dTERMen (Not in Plos Comp Paper)\n",
    "PepBindEnerKey = PepBindEner.keys()\n",
    "for model in PepBindEnerKey:\n",
    "    if ApoDTerm == False:continue\n",
    "    if \"dTERMenC\" not in model:continue\n",
    "    apo_model = re.sub(\"holo_dTERMenC\",\"apo_dTERMenA\",model)\n",
    "    if \"MIN\" in model:\n",
    "        apo_model = re.sub(\"dTERMenC\",\"dTERMenA\",model)\n",
    "    if apo_model not in PepBindEner:\n",
    "        print(model)\n",
    "        continue\n",
    "    dif_model = re.sub(\"dTERMenC\",\"dTERMenD\",model)\n",
    "    PepBindEner[dif_model] = dict()\n",
    "    for seq in PepBindEner[model]:\n",
    "        PepBindEner[dif_model][seq] =  PepBindEner[model][seq] - PepBindEner[apo_model][seq]\n",
    "        #print(seq,PepBindEner[model][seq],PepBindEner[apo_model][seq],PepBindEner[dif_model][seq])\n",
    "    \n"
   ]
  },
  {
   "cell_type": "code",
   "execution_count": null,
   "metadata": {
    "collapsed": true
   },
   "outputs": [],
   "source": []
  },
  {
   "cell_type": "code",
   "execution_count": null,
   "metadata": {
    "collapsed": true
   },
   "outputs": [],
   "source": []
  },
  {
   "cell_type": "code",
   "execution_count": 15,
   "metadata": {
    "collapsed": true
   },
   "outputs": [],
   "source": [
    "PepBindEnerDF = pd.DataFrame(PepBindEner).dropna(axis=1, how='all').dropna(axis=0, how='all')"
   ]
  },
  {
   "cell_type": "code",
   "execution_count": 18,
   "metadata": {
    "collapsed": true
   },
   "outputs": [],
   "source": [
    "PepBindEnerDF.to_csv(\"../computed_data/PepBindEnerDF.csv\")\n",
    "pickle.dump(PepBindEnerDF,open(\"../computed_data/PepBindEnerDF.pickle\",\"wb\"))"
   ]
  },
  {
   "cell_type": "code",
   "execution_count": null,
   "metadata": {
    "collapsed": true
   },
   "outputs": [],
   "source": []
  }
 ],
 "metadata": {
  "kernelspec": {
   "display_name": "Python 2",
   "language": "python",
   "name": "python2"
  },
  "language_info": {
   "codemirror_mode": {
    "name": "ipython",
    "version": 2
   },
   "file_extension": ".py",
   "mimetype": "text/x-python",
   "name": "python",
   "nbconvert_exporter": "python",
   "pygments_lexer": "ipython2",
   "version": "2.7.13"
  }
 },
 "nbformat": 4,
 "nbformat_minor": 2
}
